{
 "cells": [
  {
   "cell_type": "code",
   "execution_count": 1,
   "id": "a8e6758d-2c0a-42d8-b223-ec534c87f533",
   "metadata": {},
   "outputs": [],
   "source": [
    "import speech_recognition as sr\n",
    "import pyttsx3\n",
    "import pywhatkit\n",
    "import datetime\n",
    "import wikipedia\n",
    "import pyjokes"
   ]
  },
  {
   "cell_type": "code",
   "execution_count": 2,
   "id": "1f141c6a-9ce6-4d75-b4d8-546670c53409",
   "metadata": {},
   "outputs": [],
   "source": [
    "listener = sr.Recognizer()\n",
    "engine = pyttsx3.init()\n",
    "voices = engine.getProperty('voices')\n",
    "engine.setProperty('voice', voices[1].id)"
   ]
  },
  {
   "cell_type": "code",
   "execution_count": 3,
   "id": "56fb0aa4-7fd3-4c4b-accb-dfa9d1f294bb",
   "metadata": {},
   "outputs": [],
   "source": [
    "def talk(text):\n",
    "    engine.say(text)\n",
    "    engine.runAndWait()"
   ]
  },
  {
   "cell_type": "code",
   "execution_count": 4,
   "id": "d7f8c1fd-dbf8-443d-8fe1-13f57383074e",
   "metadata": {},
   "outputs": [],
   "source": [
    "def take_command():\n",
    "    try:\n",
    "        with sr.Microphone() as source:\n",
    "            print('listening...')\n",
    "            voice = listener.listen(source)\n",
    "            command = listener.recognize_google(voice)\n",
    "            command = command.lower()\n",
    "            if 'alexa' in command:\n",
    "                command = command.replace('alexa', '')\n",
    "                print(command)\n",
    "\n",
    "    except:\n",
    "        pass\n",
    "    return command"
   ]
  },
  {
   "cell_type": "code",
   "execution_count": 5,
   "id": "a8dcbbdd-ee9b-444b-a623-4a761caf8540",
   "metadata": {},
   "outputs": [],
   "source": [
    "def run_alexa():\n",
    "    command = take_command()\n",
    "    print(command)\n",
    "    if 'play' in command:\n",
    "        song = command.replace('play', '')\n",
    "        talk('playing ' + song)\n",
    "        pywhatkit.playonyt(song)\n",
    "    elif 'time' in command:\n",
    "        time = datetime.datetime.now().strftime('%I:%M %p')\n",
    "        talk('Current time is ' + time)\n",
    "    elif 'who' in command:\n",
    "        person1 = command.replace('who', '')\n",
    "        info = wikipedia.summary(person1, 1)\n",
    "        print(info)\n",
    "        talk(info)\n",
    "    elif 'what' in command:\n",
    "        person2 = command.replace('what', '')\n",
    "        info = wikipedia.summary(person2, 1)\n",
    "        print(info)\n",
    "        talk(info)\n",
    "    elif 'date' in command:\n",
    "        talk('sorry, I have a headache')\n",
    "    elif 'are you single' in command:\n",
    "        talk('I am in a relationship with wifi')\n",
    "    elif 'joke' in command:\n",
    "        talk(pyjokes.get_joke())\n",
    "    elif \"thanks\" in command:\n",
    "        talk(\"its my pleasure\")\n",
    "    else:\n",
    "        talk('Please say the command again.')"
   ]
  },
  {
   "cell_type": "code",
   "execution_count": 6,
   "id": "f13f6f0e-238a-43a1-970a-5558fba1b3a0",
   "metadata": {},
   "outputs": [
    {
     "name": "stdout",
     "output_type": "stream",
     "text": [
      "listening...\n",
      " ratan tata who is\n",
      " ratan tata who is\n",
      "Ratan Naval Tata  (28 December 1937 – 9 October 2024) was a Parsi Indian industrialist and philanthropist.\n",
      "listening...\n",
      " who is the father of india\n",
      " who is the father of india\n",
      "Mohandas Karamchand Gandhi (ISO: Mōhanadāsa Karamacaṁda Gāṁdhī; 2 October 1869 – 30 January 1948) was an Indian lawyer, anti-colonial nationalist, and political ethicist who employed nonviolent resistance to lead the successful campaign for India's independence from British rule.\n",
      "listening...\n",
      " tell me a joke\n",
      " tell me a joke\n",
      "listening...\n",
      " what is the time\n",
      " what is the time\n",
      "listening...\n"
     ]
    },
    {
     "ename": "UnboundLocalError",
     "evalue": "cannot access local variable 'command' where it is not associated with a value",
     "output_type": "error",
     "traceback": [
      "\u001b[1;31m---------------------------------------------------------------------------\u001b[0m",
      "\u001b[1;31mUnboundLocalError\u001b[0m                         Traceback (most recent call last)",
      "Cell \u001b[1;32mIn[6], line 2\u001b[0m\n\u001b[0;32m      1\u001b[0m \u001b[38;5;28;01mwhile\u001b[39;00m \u001b[38;5;28;01mTrue\u001b[39;00m:\n\u001b[1;32m----> 2\u001b[0m     run_alexa()\n",
      "Cell \u001b[1;32mIn[5], line 2\u001b[0m, in \u001b[0;36mrun_alexa\u001b[1;34m()\u001b[0m\n\u001b[0;32m      1\u001b[0m \u001b[38;5;28;01mdef\u001b[39;00m \u001b[38;5;21mrun_alexa\u001b[39m():\n\u001b[1;32m----> 2\u001b[0m     command \u001b[38;5;241m=\u001b[39m take_command()\n\u001b[0;32m      3\u001b[0m     \u001b[38;5;28mprint\u001b[39m(command)\n\u001b[0;32m      4\u001b[0m     \u001b[38;5;28;01mif\u001b[39;00m \u001b[38;5;124m'\u001b[39m\u001b[38;5;124mplay\u001b[39m\u001b[38;5;124m'\u001b[39m \u001b[38;5;129;01min\u001b[39;00m command:\n",
      "Cell \u001b[1;32mIn[4], line 14\u001b[0m, in \u001b[0;36mtake_command\u001b[1;34m()\u001b[0m\n\u001b[0;32m     12\u001b[0m \u001b[38;5;28;01mexcept\u001b[39;00m:\n\u001b[0;32m     13\u001b[0m     \u001b[38;5;28;01mpass\u001b[39;00m\n\u001b[1;32m---> 14\u001b[0m \u001b[38;5;28;01mreturn\u001b[39;00m command\n",
      "\u001b[1;31mUnboundLocalError\u001b[0m: cannot access local variable 'command' where it is not associated with a value"
     ]
    }
   ],
   "source": [
    "while True:\n",
    "    run_alexa()"
   ]
  },
  {
   "cell_type": "code",
   "execution_count": null,
   "id": "564b0273-25f8-424b-b03c-7d4217078cb2",
   "metadata": {},
   "outputs": [],
   "source": []
  }
 ],
 "metadata": {
  "kernelspec": {
   "display_name": "Python 3 (ipykernel)",
   "language": "python",
   "name": "python3"
  },
  "language_info": {
   "codemirror_mode": {
    "name": "ipython",
    "version": 3
   },
   "file_extension": ".py",
   "mimetype": "text/x-python",
   "name": "python",
   "nbconvert_exporter": "python",
   "pygments_lexer": "ipython3",
   "version": "3.12.4"
  }
 },
 "nbformat": 4,
 "nbformat_minor": 5
}
